{
 "cells": [
  {
   "cell_type": "markdown",
   "id": "91f6f88c",
   "metadata": {},
   "source": [
    "# Berkeley Earth data availability\n",
    "\n",
    "Check data availability on global land for Berkeley Earth data. This notebook is used to determine what conditions to apply to the data."
   ]
  },
  {
   "cell_type": "code",
   "execution_count": null,
   "id": "b4729585",
   "metadata": {},
   "outputs": [],
   "source": [
    "import copy\n",
    "\n",
    "import cartopy.crs as ccrs\n",
    "import cartopy.feature as cfeature\n",
    "import matplotlib.pyplot as plt\n",
    "import numpy as np\n",
    "import xarray as xr\n",
    "\n",
    "from utils import berkeley, utils"
   ]
  },
  {
   "cell_type": "markdown",
   "id": "d2fc9667",
   "metadata": {},
   "source": [
    "**NOTE**: as of 12.03.2025: only data until 2024-08-31 -> don't analyse 2024"
   ]
  },
  {
   "cell_type": "code",
   "execution_count": null,
   "id": "18d1f572",
   "metadata": {},
   "outputs": [],
   "source": [
    "CLIMATOLOGY_PERIOD = slice(\"1961\", \"1990\")\n",
    "\n",
    "end_year = \"2023\""
   ]
  },
  {
   "cell_type": "markdown",
   "id": "962ac55d",
   "metadata": {},
   "source": [
    "## Load data"
   ]
  },
  {
   "cell_type": "code",
   "execution_count": null,
   "id": "b65f5a0a",
   "metadata": {},
   "outputs": [],
   "source": [
    "ds_tmax = berkeley.read(\"TMAX\", time_period=slice(None, end_year))\n",
    "ds_tmax = ds_tmax.load()"
   ]
  },
  {
   "cell_type": "code",
   "execution_count": null,
   "id": "ceb43da3",
   "metadata": {},
   "outputs": [],
   "source": [
    "# ds_tmin = berkeley.read(\"TMIN\", time_period=slice(None, end_year))\n",
    "# ds_tmin = ds_tmin.load()"
   ]
  },
  {
   "cell_type": "markdown",
   "id": "d35456d5",
   "metadata": {},
   "source": [
    "## add the annual cycle\n",
    "\n",
    "only for 1955 on (see below)"
   ]
  },
  {
   "cell_type": "code",
   "execution_count": null,
   "id": "6798518b",
   "metadata": {},
   "outputs": [],
   "source": [
    "# add climatology, so the annual max can be properly determined\n",
    "ds_tmax_seas = berkeley.add_climatology(ds_tmax.sel(time=slice(\"1955\", None)))\n",
    "\n",
    "# ds_tmin_seas = berkeley.add_climatology(ds_tmin.sel(time=slice(\"1955\", None)))"
   ]
  },
  {
   "cell_type": "markdown",
   "id": "9be76b39",
   "metadata": {},
   "source": [
    "### calculate annual max/ min"
   ]
  },
  {
   "cell_type": "code",
   "execution_count": null,
   "id": "3fdc8828",
   "metadata": {},
   "outputs": [],
   "source": [
    "with xr.set_options(use_flox=True):\n",
    "    txx = ds_tmax_seas.groupby(\"time.year\").max(\"time\", engine=\"flox\")\n",
    "    # tnn = ds_tmin_seas.groupby(\"time.year\").min(\"time\", engine=\"flox\")"
   ]
  },
  {
   "cell_type": "markdown",
   "id": "edcc8751",
   "metadata": {},
   "source": [
    "##  land mask\n",
    "\n",
    "there are land grid points that never have any data -> remove those"
   ]
  },
  {
   "cell_type": "code",
   "execution_count": null,
   "id": "44636622",
   "metadata": {},
   "outputs": [],
   "source": [
    "has_no_data_on_land_tmax = berkeley.land_without_any_data(ds_tmax)\n",
    "# has_no_data_on_land_tmin = berkeley.land_without_any_data(ds_tmax)\n",
    "\n",
    "# make sure min and max have the same missing data points\n",
    "# assert (has_no_data_on_land_tmax == has_no_data_on_land_tmin).all()\n",
    "\n",
    "f, ax = plt.subplots(1, 1)\n",
    "\n",
    "has_no_data_on_land_tmax.plot(ax=ax)"
   ]
  },
  {
   "cell_type": "markdown",
   "id": "0b3e833f",
   "metadata": {},
   "source": [
    "### clean land mask\n",
    "\n",
    "remove gridpoints without data"
   ]
  },
  {
   "cell_type": "code",
   "execution_count": null,
   "id": "c956f6a3",
   "metadata": {},
   "outputs": [],
   "source": [
    "land_mask = berkeley.clean_landmask(ds_tmax)"
   ]
  },
  {
   "cell_type": "code",
   "execution_count": null,
   "id": "baaf6853",
   "metadata": {},
   "outputs": [],
   "source": [
    "land_mask.plot()"
   ]
  },
  {
   "cell_type": "markdown",
   "id": "d9351ac0",
   "metadata": {},
   "source": [
    "## Check data availability"
   ]
  },
  {
   "cell_type": "markdown",
   "id": "9dfc9fac",
   "metadata": {},
   "source": [
    "#### calculate annual data availabiliy (fraction)\n",
    "\n",
    "fraction of data available at each grid point for each year"
   ]
  },
  {
   "cell_type": "code",
   "execution_count": null,
   "id": "ea2b8755",
   "metadata": {},
   "outputs": [],
   "source": [
    "# get the fraction of valid data per year\n",
    "notnull_tmax_map_ = berkeley.annual_data_availability(ds_tmax.temperature)\n",
    "# notnull_tmin_map_ = berkeley.annual_data_availability(ds_tmin.temperature)"
   ]
  },
  {
   "cell_type": "markdown",
   "id": "1367cbfa",
   "metadata": {},
   "source": [
    "#### land-mean fraction of data for each year (w/o Antarctica)"
   ]
  },
  {
   "cell_type": "code",
   "execution_count": null,
   "id": "aa026683",
   "metadata": {},
   "outputs": [],
   "source": [
    "notnull_tmax = utils.land_mean(notnull_tmax_map_, land_mask)\n",
    "# notnull_tmin = utils.land_mean(notnull_tmin_map_, land_mask)"
   ]
  },
  {
   "cell_type": "code",
   "execution_count": null,
   "id": "b576fde6",
   "metadata": {},
   "outputs": [],
   "source": [
    "f, ax = plt.subplots(1, 1)\n",
    "\n",
    "notnull_tmax.plot(ax=ax, label=\"T max\")\n",
    "# notnull_tmin.plot(ax=ax, label=\"T min\")\n",
    "\n",
    "ax.legend()\n",
    "\n",
    "ax.set_ylabel(\"Land area available\")"
   ]
  },
  {
   "cell_type": "markdown",
   "id": "13d21bb5",
   "metadata": {},
   "source": [
    "> Data avalability is generally good after 1950 and less good before. Restrict the rest of the analysis to after 1950. (Decide the exact year below)."
   ]
  },
  {
   "cell_type": "code",
   "execution_count": null,
   "id": "3407ae25",
   "metadata": {},
   "outputs": [],
   "source": [
    "notnull_tmax_map = notnull_tmax_map_.sel(year=slice(1950, None))\n",
    "# notnull_tmin_map = notnull_tmin_map_.sel(year=slice(1950, None))"
   ]
  },
  {
   "cell_type": "markdown",
   "id": "1f10bd45",
   "metadata": {},
   "source": [
    "### data availability requirements\n",
    "\n",
    "e.g., require data for at least 90% of days\n",
    "\n",
    "- 90% -> ~ 36 days\n",
    "- 95% -> ~ 18 days\n",
    "- 99% -> ~  4 days\n",
    "can be missing\n",
    "\n",
    "It is important that not too many days are missing - otherwise the annual min/ max can be wrong."
   ]
  },
  {
   "cell_type": "code",
   "execution_count": null,
   "id": "307bb69e",
   "metadata": {},
   "outputs": [],
   "source": [
    "days_required = [0, 0.90, 0.91, 0.92, 0.95, 0.99]  # % of data per year\n",
    "\n",
    "\n",
    "def dta_av_required(data_notnull, *days_required):\n",
    "\n",
    "    notnull = dict()\n",
    "\n",
    "    for req in days_required:\n",
    "\n",
    "        has_data = berkeley.require_valid(\n",
    "            data_notnull, data_notnull, valid_days=req, valid_years=0\n",
    "        )\n",
    "\n",
    "        has_data = has_data.fillna(0)\n",
    "        dta = utils.land_mean(has_data, land_mask)\n",
    "\n",
    "        p = int(req * 100)\n",
    "        notnull[f\"{p:03d}\"] = dta\n",
    "\n",
    "    return notnull\n",
    "\n",
    "\n",
    "# get annual data availability once we require at least x% of data each year\n",
    "\n",
    "notnull_tmax_atleast = dta_av_required(notnull_tmax_map, *days_required)\n",
    "# notnull_tmin_atleast = dta_av_required(notnull_tmin_map, *days_required)"
   ]
  },
  {
   "cell_type": "code",
   "execution_count": null,
   "id": "90e505f1",
   "metadata": {},
   "outputs": [],
   "source": [
    "f, axs = plt.subplots(2, 1, layout=\"constrained\", sharex=True)\n",
    "\n",
    "ax = axs[0]\n",
    "\n",
    "for key, value in notnull_tmax_atleast.items():\n",
    "    value.plot(ax=ax, label=f\"{int(key):d}%\")\n",
    "\n",
    "ax.set_xlabel(\"\")\n",
    "ax.set_title(\"Availability when requiring at least X% of data\")\n",
    "\n",
    "ax.set_ylabel(\"T max: Land area\\navailable (%)\")\n",
    "\n",
    "\n",
    "# ax = axs[1]\n",
    "\n",
    "# for key, value in notnull_tmin_atleast.items():\n",
    "#     value.plot(ax=ax, label=f\"{int(key):d}%\")\n",
    "\n",
    "# ax.set_ylabel(\"T min: Land area\\navailable (%)\")\n",
    "\n",
    "\n",
    "for ax in axs:\n",
    "\n",
    "    ax.legend()\n",
    "\n",
    "    ax.axhline(0.95, color=\"0.1\", lw=0.5)\n",
    "    ax.axhline(1.00, color=\"0.1\", lw=0.5)\n",
    "\n",
    "    ax.axvline(1955, color=\"0.1\", lw=1)"
   ]
  },
  {
   "cell_type": "markdown",
   "id": "c948fe42",
   "metadata": {},
   "source": [
    "#### Conclusions\n",
    "\n",
    "> - Requiring at least 90% or 91 % makes (almost) no difference\n",
    "> - Requiring at least 92% or more makes (almost) no difference\n",
    "> - After 1953 data availability is generally > 95%\n",
    "> - But let's choose 1955 to have a nicer number"
   ]
  },
  {
   "cell_type": "code",
   "execution_count": null,
   "id": "1fc5fd73-fe9f-48bc-8056-584654a6335d",
   "metadata": {},
   "outputs": [],
   "source": [
    "notnull_tmax_map_1955 = notnull_tmax_map.sel(year=slice(1955, None))\n",
    "# notnull_tmin_map_1955 = notnull_tmin_map.sel(year=slice(1955, None))"
   ]
  },
  {
   "cell_type": "code",
   "execution_count": null,
   "id": "100f2c82-9d0e-4200-b2f7-a74302cc39d4",
   "metadata": {},
   "outputs": [],
   "source": [
    "def plot_data_av_map(data, variable, require):\n",
    "\n",
    "    opt = {\n",
    "        \"transform\": ccrs.PlateCarree(),\n",
    "        \"add_colorbar\": False,\n",
    "        \"vmin\": 0.50,\n",
    "        \"vmax\": 1.0,\n",
    "    }  # , \"cmap\": \"Reds\"}\n",
    "\n",
    "    f, axs = plt.subplots(2, 1, subplot_kw={\"projection\": ccrs.PlateCarree()})\n",
    "\n",
    "    axs = axs.flatten()\n",
    "\n",
    "    ax = axs[0]\n",
    "    h = data.where(land_mask).mean(\"year\").plot(ax=ax, **opt)\n",
    "    # notnull_tmin_map_1955\n",
    "\n",
    "    ax.set_title(f\"{variable}: Mean data availability\")\n",
    "\n",
    "    ax = axs[1]\n",
    "    data = data.where(data >= require, 0).where(land_mask).mean(\"year\")\n",
    "    h = data.plot(ax=ax, **opt)\n",
    "\n",
    "    ax.set_title(f\"With valid_days >= {require}\")\n",
    "\n",
    "    plt.colorbar(h, ax=axs)\n",
    "\n",
    "    for ax in axs:\n",
    "        ax.coastlines()"
   ]
  },
  {
   "cell_type": "code",
   "execution_count": null,
   "id": "e5936439",
   "metadata": {},
   "outputs": [],
   "source": [
    "plot_data_av_map(notnull_tmax_map_1955, \"T max\", require=0.99)"
   ]
  },
  {
   "cell_type": "code",
   "execution_count": null,
   "id": "49d0eb45",
   "metadata": {},
   "outputs": [],
   "source": [
    "# plot_data_av_map(notnull_tmin_map_1955, \"T min\", require=0.99)"
   ]
  },
  {
   "cell_type": "markdown",
   "id": "fbc54634",
   "metadata": {},
   "source": [
    "> There are three hotspots of missing data"
   ]
  },
  {
   "cell_type": "markdown",
   "id": "92c0354f",
   "metadata": {},
   "source": [
    "## Compare data availability requirements"
   ]
  },
  {
   "cell_type": "code",
   "execution_count": null,
   "id": "ca5752ad",
   "metadata": {},
   "outputs": [],
   "source": [
    "txx_00_00 = berkeley.require_valid(\n",
    "    txx, notnull_tmax_map, valid_days=0.0, valid_years=0.0\n",
    ")\n",
    "txx_99_00 = berkeley.require_valid(\n",
    "    txx, notnull_tmax_map, valid_days=0.99, valid_years=0.0\n",
    ")\n",
    "txx_99_90 = berkeley.require_valid(\n",
    "    txx, notnull_tmax_map, valid_days=0.99, valid_years=0.9\n",
    ")\n",
    "\n",
    "txx_00_00_land = utils.land_mean(txx_00_00, land_mask)\n",
    "txx_99_00_land = utils.land_mean(txx_99_00, land_mask)\n",
    "txx_99_90_land = utils.land_mean(txx_99_90, land_mask)"
   ]
  },
  {
   "cell_type": "code",
   "execution_count": null,
   "id": "852ac577",
   "metadata": {},
   "outputs": [],
   "source": [
    "txx_00_00_land.plot(label=\"0% of days; 0% of years\")\n",
    "txx_99_00_land.plot(label=\"99% of days; 0% of years\")\n",
    "txx_99_90_land.plot(label=\"99% of days; 90% of years\")\n",
    "\n",
    "plt.legend()"
   ]
  },
  {
   "cell_type": "markdown",
   "id": "70feeb5b",
   "metadata": {},
   "source": [
    "> Restricting the data makes almost no difference for land mean TXx."
   ]
  },
  {
   "cell_type": "code",
   "execution_count": null,
   "id": "9ebea0f1",
   "metadata": {},
   "outputs": [],
   "source": [
    "# tnn_00_00 = berkeley.require_valid(\n",
    "#     tnn, notnull_tmin_map, valid_days=0.0, valid_years=0.0\n",
    "# )\n",
    "# tnn_99_00 = berkeley.require_valid(\n",
    "#     tnn, notnull_tmin_map, valid_days=0.99, valid_years=0.0\n",
    "# )\n",
    "# tnn_99_90 = berkeley.require_valid(\n",
    "#     tnn, notnull_tmin_map, valid_days=0.99, valid_years=0.9\n",
    "# )\n",
    "\n",
    "# tnn_00_00_land = utils.land_mean(tnn_00_00, land_mask)\n",
    "# tnn_99_00_land = utils.land_mean(tnn_99_00, land_mask)\n",
    "# tnn_99_90_land = utils.land_mean(tnn_99_90, land_mask)"
   ]
  },
  {
   "cell_type": "code",
   "execution_count": null,
   "id": "da5f0797",
   "metadata": {},
   "outputs": [],
   "source": [
    "# tnn_00_00_land.plot(label=\"0% of days; 0% of years\")\n",
    "# tnn_99_00_land.plot(label=\"99% of days; 0% of years\")\n",
    "# tnn_99_90_land.plot(label=\"99% of days; 90% of years\")\n",
    "\n",
    "# plt.legend()"
   ]
  },
  {
   "cell_type": "code",
   "execution_count": null,
   "id": "a802e608",
   "metadata": {},
   "outputs": [],
   "source": []
  },
  {
   "cell_type": "code",
   "execution_count": null,
   "id": "928414f7",
   "metadata": {},
   "outputs": [],
   "source": [
    "# utils.calc_anomaly(tnn_00_00_land, CLIMATOLOGY_PERIOD).plot(\n",
    "#     label=\"0% of days; 0% of years\"\n",
    "# )\n",
    "# utils.calc_anomaly(tnn_99_00_land, CLIMATOLOGY_PERIOD).plot(\n",
    "#     label=\"99% of days; 0% of years\"\n",
    "# )\n",
    "# utils.calc_anomaly(tnn_99_90_land, CLIMATOLOGY_PERIOD).plot(\n",
    "#     label=\"99% of days; 90% of years\"\n",
    "# )\n",
    "\n",
    "# plt.legend()"
   ]
  },
  {
   "cell_type": "markdown",
   "id": "ad9a3cc7",
   "metadata": {},
   "source": [
    "> Restricting the data removes regions in the Tropics, which makes the land mean warmer. Not sure why this has such a strong effect on TNn but not on TXx.\n",
    "\n",
    "> * TXx has a more \"normal\" distribution and the removed temperatures are on both sides of the mean\n",
    "> * TNn has a \"U\" shaped distribution and the removed temperatures are only above the mean"
   ]
  },
  {
   "cell_type": "code",
   "execution_count": null,
   "id": "e14255ba",
   "metadata": {},
   "outputs": [],
   "source": [
    "import mplotutils as mpu\n",
    "\n",
    "cmap = copy.copy(plt.get_cmap(\"RdBu\"))\n",
    "cmap.set_bad(\"#6a3d9a\")\n",
    "\n",
    "opt = dict(\n",
    "    add_colorbar=False,\n",
    "    vmax=0.25,\n",
    "    extend=\"both\",\n",
    "    center=0,\n",
    "    transform=ccrs.PlateCarree(),\n",
    "    cmap=cmap,\n",
    "    robust=True,\n",
    ")\n",
    "\n",
    "\n",
    "f, axs = plt.subplots(2, 1, sharex=True, subplot_kw=dict(projection=ccrs.PlateCarree()))\n",
    "axs = axs.flatten()\n",
    "\n",
    "ax = axs[0]\n",
    "\n",
    "d = txx_00_00.mean(\"year\") - txx_99_00.mean(\"year\")\n",
    "h = d.plot(ax=ax, **opt)\n",
    "\n",
    "ax = axs[1]\n",
    "\n",
    "d = txx_99_00.mean(\"year\") - txx_99_90.mean(\"year\")\n",
    "h = d.plot(ax=ax, **opt)\n",
    "\n",
    "d_txx = d\n",
    "\n",
    "# ax = axs[2]\n",
    "\n",
    "# txx_99_90.mean(\"year\").plot(ax=ax, **opt)\n",
    "\n",
    "for ax in axs:\n",
    "    ax.set_aspect(\"equal\")\n",
    "    ax.coastlines()\n",
    "    ax.add_feature(cfeature.OCEAN, zorder=2, facecolor=\"white\")\n",
    "\n",
    "\n",
    "print(txx_00_00.mean().item())\n",
    "print(txx_99_00.mean().item())\n",
    "print(txx_99_90.mean().item())\n",
    "\n",
    "mpu.colorbar(h, axs[1], orientation=\"horizontal\")\n",
    "\n",
    "mpu.set_map_layout(axs)"
   ]
  },
  {
   "cell_type": "code",
   "execution_count": null,
   "id": "3f931ffc",
   "metadata": {},
   "outputs": [],
   "source": [
    "# import mplotutils as mpu\n",
    "\n",
    "# cmap = copy.copy(plt.get_cmap(\"RdBu\"))\n",
    "# cmap.set_bad(\"#6a3d9a\")\n",
    "\n",
    "# opt = dict(\n",
    "#     add_colorbar=False,\n",
    "#     vmax=0.25,\n",
    "#     extend=\"both\",\n",
    "#     center=0,\n",
    "#     transform=ccrs.PlateCarree(),\n",
    "#     cmap=cmap,\n",
    "#     robust=True,\n",
    "# )\n",
    "\n",
    "\n",
    "# f, axs = plt.subplots(2, 1, sharex=True, subplot_kw=dict(projection=ccrs.PlateCarree()))\n",
    "# axs = axs.flatten()\n",
    "\n",
    "# ax = axs[0]\n",
    "\n",
    "# d = tnn_00_00.mean(\"year\") - tnn_99_00.mean(\"year\")\n",
    "# h = d.plot(ax=ax, **opt)\n",
    "\n",
    "# ax = axs[1]\n",
    "\n",
    "# d = tnn_99_00.mean(\"year\") - tnn_99_90.mean(\"year\")\n",
    "# h = d.plot(ax=ax, **opt)\n",
    "\n",
    "# d_tnn = d\n",
    "\n",
    "\n",
    "# # ax = axs[2]\n",
    "\n",
    "# # tnn_99_90.mean(\"year\").plot(ax=ax, **opt)\n",
    "\n",
    "# for ax in axs:\n",
    "#     ax.set_aspect(\"equal\")\n",
    "#     ax.coastlines()\n",
    "#     ax.add_feature(cfeature.OCEAN, zorder=2, facecolor=\"white\")\n",
    "\n",
    "\n",
    "# print(tnn_00_00.mean().item())\n",
    "# print(tnn_99_00.mean().item())\n",
    "# print(tnn_99_90.mean().item())\n",
    "\n",
    "# mpu.colorbar(h, axs[1], orientation=\"horizontal\")\n",
    "\n",
    "# mpu.set_map_layout(axs)"
   ]
  },
  {
   "cell_type": "code",
   "execution_count": null,
   "id": "245e6c65",
   "metadata": {},
   "outputs": [],
   "source": [
    "# lm = d_tnn.isnull() & (land_mask == 1)\n",
    "\n",
    "# utils.land_mean(tnn_00_00, lm).plot()\n",
    "# utils.land_mean(tnn_99_00, lm).plot()\n",
    "# utils.land_mean(tnn_99_90, lm).plot()\n",
    "\n",
    "# lm.sum() / land_mask.sum() * 100"
   ]
  },
  {
   "cell_type": "code",
   "execution_count": null,
   "id": "c521b541",
   "metadata": {},
   "outputs": [],
   "source": [
    "lm = d_txx.isnull() & (land_mask == 1)\n",
    "\n",
    "utils.land_mean(txx_00_00, lm).plot()\n",
    "utils.land_mean(txx_99_00, lm).plot()"
   ]
  },
  {
   "cell_type": "markdown",
   "id": "7ea21e99",
   "metadata": {},
   "source": [
    "## Comparing data availability TXx vs TNn\n",
    "\n",
    "\n"
   ]
  },
  {
   "cell_type": "code",
   "execution_count": null,
   "id": "fd040144",
   "metadata": {},
   "outputs": [],
   "source": [
    "# def h(d):$\n",
    "\n",
    "# -68..27\n",
    "\n",
    "bins = np.arange(-6, 52)\n",
    "\n",
    "\n",
    "# d = d.values[d.notnull()]\n",
    "\n",
    "year = 1971\n",
    "\n",
    "plt.hist(txx_00_00.sel(year=year).values.flatten(), alpha=0.5, bins=bins)\n",
    "plt.hist(txx_99_90.sel(year=year).values.flatten(), alpha=0.5, bins=bins)\n",
    "\n",
    "plt.axvline(txx_00_00_land.sel(year=year), lw=0.5)\n",
    "plt.axvline(txx_99_90_land.sel(year=year), lw=0.5)\n",
    "\n",
    "\n",
    "tnn_00_00_land.sel(year=year)"
   ]
  },
  {
   "cell_type": "code",
   "execution_count": null,
   "id": "719992e4",
   "metadata": {},
   "outputs": [],
   "source": [
    "# def h(d):$\n",
    "\n",
    "# -68..27\n",
    "\n",
    "bins = np.arange(-68, 28)\n",
    "\n",
    "\n",
    "# d = d.values[d.notnull()]\n",
    "\n",
    "year = 2021\n",
    "\n",
    "plt.hist(tnn_00_00.sel(year=year).values.flatten(), alpha=0.5, bins=bins)\n",
    "plt.hist(tnn_99_90.sel(year=year).values.flatten(), alpha=0.5, bins=bins)\n",
    "\n",
    "plt.axvline(tnn_00_00_land.sel(year=year), lw=0.5)\n",
    "plt.axvline(tnn_99_90_land.sel(year=year), lw=0.5)\n",
    "\n",
    "\n",
    "tnn_00_00_land.sel(year=year)"
   ]
  },
  {
   "cell_type": "code",
   "execution_count": null,
   "id": "d00e110e",
   "metadata": {},
   "outputs": [],
   "source": [
    "cmap = copy.copy(plt.get_cmap(\"RdBu\"))\n",
    "\n",
    "cmap.set_bad(\"#6a3d9a\")\n",
    "\n",
    "\n",
    "opt = dict(\n",
    "    add_colorbar=False,\n",
    "    #     vmax=0.25,\n",
    "    #     extend=\"both\",\n",
    "    #     center=0,\n",
    "    transform=ccrs.PlateCarree(),\n",
    "    #     cmap=cmap,\n",
    "    robust=True,\n",
    ")\n",
    "\n",
    "f, axs = plt.subplots(2, 1, sharex=True, subplot_kw=dict(projection=ccrs.Mollweide()))\n",
    "ax = axs[0]\n",
    "\n",
    "h = tnn_00_00.sel(year=year).plot(ax=ax, **opt)\n",
    "ax.coastlines()\n",
    "mpu.colorbar(h, ax)\n",
    "\n",
    "\n",
    "ax = axs[1]\n",
    "\n",
    "# d = tnn_99_00.sel(year=year) - tnn_00_00.sel(year=year)\n",
    "\n",
    "d = tnn_00_00.sel(year=year)\n",
    "\n",
    "# d = (d > -30) & (d < 0)\n",
    "\n",
    "# d = 1. * d\n",
    "\n",
    "# h = d.plot(ax=ax, cmap=cmap, **opt)\n",
    "\n",
    "levels = [-60, -25, 0, 20]\n",
    "\n",
    "h = d.plot.contourf(ax=ax, levels=levels, **opt)\n",
    "\n",
    "\n",
    "ax.add_feature(cfeature.OCEAN, zorder=2, facecolor=\"white\")\n",
    "\n",
    "ax.coastlines()\n",
    "mpu.colorbar(h, ax)"
   ]
  }
 ],
 "metadata": {
  "kernelspec": {
   "display_name": "Python [conda env:.conda-cmip_processing]",
   "language": "python",
   "name": "conda-env-.conda-cmip_processing-py"
  },
  "language_info": {
   "codemirror_mode": {
    "name": "ipython",
    "version": 3
   },
   "file_extension": ".py",
   "mimetype": "text/x-python",
   "name": "python",
   "nbconvert_exporter": "python",
   "pygments_lexer": "ipython3",
   "version": "3.12.8"
  }
 },
 "nbformat": 4,
 "nbformat_minor": 5
}
