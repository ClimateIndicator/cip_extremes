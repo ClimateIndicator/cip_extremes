{
 "cells": [
  {
   "cell_type": "markdown",
   "metadata": {},
   "source": [
    "# Compare different Berkeley Earth realisations"
   ]
  },
  {
   "cell_type": "code",
   "execution_count": null,
   "metadata": {},
   "outputs": [],
   "source": [
    "import pathlib\n",
    "\n",
    "import matplotlib.pyplot as plt\n",
    "import numpy as np\n",
    "import seaborn as sns\n",
    "import xarray as xr\n",
    "\n",
    "from utils import berkeley, utils"
   ]
  },
  {
   "cell_type": "markdown",
   "metadata": {},
   "source": [
    "## Difference in global mean"
   ]
  },
  {
   "cell_type": "code",
   "execution_count": null,
   "metadata": {},
   "outputs": [],
   "source": [
    "berkeley_globmean_1850_1900_v2023 = berkeley.read_globmean(ref_period=slice(1850, 1900), version=\"v2023\")\n",
    "berkeley_globmean_1850_1900_v2024 = berkeley.read_globmean(ref_period=slice(1850, 1900), version=\"v2024\")\n"
   ]
  },
  {
   "cell_type": "code",
   "execution_count": null,
   "metadata": {},
   "outputs": [],
   "source": [
    "berkeley_globmean_1850_1900_v2023.plot()\n",
    "berkeley_globmean_1850_1900_v2024.plot()"
   ]
  },
  {
   "cell_type": "code",
   "execution_count": null,
   "metadata": {},
   "outputs": [],
   "source": [
    "berkeley_globmean_abs_v2023 = berkeley.read_globmean(ref_period=None, version=\"v2023\")\n",
    "berkeley_globmean_abs_v2024 = berkeley.read_globmean(ref_period=None, version=\"v2024\")"
   ]
  },
  {
   "cell_type": "code",
   "execution_count": null,
   "metadata": {},
   "outputs": [],
   "source": [
    "berkeley_globmean_abs_v2023.plot()\n",
    "berkeley_globmean_abs_v2024.plot()"
   ]
  },
  {
   "cell_type": "code",
   "execution_count": null,
   "metadata": {},
   "outputs": [],
   "source": [
    "diff_anom = berkeley_globmean_1850_1900_v2023 - berkeley_globmean_1850_1900_v2024\n",
    "\n",
    "diff_abs = berkeley_globmean_abs_v2023 - berkeley_globmean_abs_v2024\n",
    "\n",
    "f, ax = plt.subplots()\n",
    "\n",
    "diff_anom.plot(ax=ax, label=\"v2023 - v2024: anom. temp.\")\n",
    "diff_abs.plot(ax=ax, label=\"v2023 - v2024: abs. temp.\")\n",
    "\n",
    "plt.legend()\n",
    "\n",
    "ax.axhline(0, lw=0.5, c=\"0.1\")\n"
   ]
  },
  {
   "cell_type": "markdown",
   "metadata": {},
   "source": [
    "## Difference in spatial data"
   ]
  },
  {
   "cell_type": "code",
   "execution_count": null,
   "metadata": {},
   "outputs": [],
   "source": [
    "period = slice(\"1955\", \"1960\")\n",
    "\n",
    "tmax_2024 = berkeley.read_full(\"TMAX\", version=\"v2024\")\n",
    "tmin_2024 = berkeley.read_full(\"TMIN\", version=\"v2024\")"
   ]
  },
  {
   "cell_type": "code",
   "execution_count": null,
   "metadata": {},
   "outputs": [],
   "source": [
    "tmax_2023 = berkeley.read_full(\"TMAX\", version=\"v2023\")\n",
    "tmin_2023 = berkeley.read_full(\"TMIN\", version=\"v2023\")\n"
   ]
  },
  {
   "cell_type": "code",
   "execution_count": null,
   "metadata": {},
   "outputs": [],
   "source": [
    "tmax_2023.climatology.load()\n",
    "tmax_2024.climatology.load()\n",
    "None"
   ]
  },
  {
   "cell_type": "code",
   "execution_count": null,
   "metadata": {},
   "outputs": [],
   "source": [
    "tmin_2023.climatology.load()\n",
    "tmin_2024.climatology.load()\n",
    "None"
   ]
  },
  {
   "cell_type": "code",
   "execution_count": null,
   "metadata": {},
   "outputs": [],
   "source": [
    "tmax_2023"
   ]
  },
  {
   "cell_type": "code",
   "execution_count": null,
   "metadata": {},
   "outputs": [],
   "source": [
    "tmax_2024"
   ]
  },
  {
   "cell_type": "markdown",
   "metadata": {},
   "source": [
    "### Difference in climatology"
   ]
  },
  {
   "cell_type": "code",
   "execution_count": null,
   "metadata": {},
   "outputs": [],
   "source": [
    "f, ax = plt.subplots()\n",
    "\n",
    "h = (tmax_2024.climatology - tmax_2023.climatology).mean(\"day_number\").plot(ax=ax, add_colorbar=False)\n",
    "\n",
    "cbar = plt.colorbar(h, ax=ax)\n",
    "\n",
    "cbar.set_label(\"climatology difference (°C)\")\n",
    "\n",
    "ax.set_title(\"Annual mean difference in TMAX climatology (v2023.11.30 - v2022.09.07)\", loc=\"left\", fontsize=8)\n",
    "\n",
    "# plt.savefig(\"BerkeleyEarth_TMAX_climatology_diff.png\")\n",
    "\n",
    "\n"
   ]
  },
  {
   "cell_type": "code",
   "execution_count": null,
   "metadata": {},
   "outputs": [],
   "source": [
    "(tmin_2023.climatology - tmin_2024.climatology).mean(\"day_number\").plot()\n"
   ]
  },
  {
   "cell_type": "code",
   "execution_count": null,
   "metadata": {},
   "outputs": [],
   "source": [
    "lon = 8\n",
    "lat= 47\n",
    "\n",
    "# (tmax_2023.climatology - tmax_2024.climatology).sel(lat=lat, lon=lon, method=\"nearest\").plot()\n",
    "\n",
    "tmin_2023.climatology.sel(lat=lat, lon=lon, method=\"nearest\").plot(label=\"TMIN - v2023\", color=\"r\")\n",
    "tmax_2023.climatology.sel(lat=lat, lon=lon, method=\"nearest\").plot(label=\"TMAX - v2023\", color=\"r\")\n",
    "\n",
    "\n",
    "tmin_2024.climatology.sel(lat=lat, lon=lon, method=\"nearest\").plot(label=\"TMIN - v2024\", color=\"b\")\n",
    "tmax_2024.climatology.sel(lat=lat, lon=lon, method=\"nearest\").plot(label=\"TMAX - v2024\", color=\"b\")\n",
    "\n",
    "\n",
    "plt.legend()\n"
   ]
  },
  {
   "cell_type": "code",
   "execution_count": null,
   "metadata": {},
   "outputs": [],
   "source": [
    "a = tmin_2023.climatology.sel(lat=lat, lon=lon, method=\"nearest\")\n",
    "b = tmax_2023.climatology.sel(lat=lat, lon=lon, method=\"nearest\")\n",
    "\n",
    "plt.fill_between(a.day_number, a, b, color=\"#3182bd88\", label=\"2023\")\n",
    "\n",
    "\n",
    "a = tmin_2024.climatology.sel(lat=lat, lon=lon, method=\"nearest\")\n",
    "b = tmax_2024.climatology.sel(lat=lat, lon=lon, method=\"nearest\")\n",
    "\n",
    "plt.fill_between(a.day_number, a, b, color=\"#c51b8a88\", label=\"2024\")\n",
    "\n",
    "plt.legend()\n",
    "\n",
    "plt.title(\"TX and TN difference\")"
   ]
  },
  {
   "cell_type": "markdown",
   "metadata": {},
   "source": [
    "### Compare TXx"
   ]
  },
  {
   "cell_type": "code",
   "execution_count": null,
   "metadata": {},
   "outputs": [],
   "source": [
    "tmax_seas_2023 = berkeley.add_climatology(tmax_2023)"
   ]
  },
  {
   "cell_type": "code",
   "execution_count": null,
   "metadata": {},
   "outputs": [],
   "source": [
    "tmax_seas_2024 = berkeley.add_climatology(tmax_2024)"
   ]
  },
  {
   "cell_type": "code",
   "execution_count": null,
   "metadata": {},
   "outputs": [],
   "source": [
    "with xr.set_options(use_flox=True):\n",
    "    txx_2023 = tmax_seas_2023.groupby(\"time.year\").max(\"time\", engine=\"flox\").compute()"
   ]
  },
  {
   "cell_type": "code",
   "execution_count": null,
   "metadata": {},
   "outputs": [],
   "source": [
    "with xr.set_options(use_flox=True):\n",
    "    txx_2024 = tmax_seas_2024.groupby(\"time.year\").max(\"time\", engine=\"flox\").compute()"
   ]
  },
  {
   "cell_type": "code",
   "execution_count": null,
   "metadata": {},
   "outputs": [],
   "source": [
    "(txx_2024 - txx_2023).sel(year=2000).plot(robust=True)"
   ]
  }
 ],
 "metadata": {
  "kernelspec": {
   "display_name": "Python (iacpy3_2023)",
   "language": "python",
   "name": "iacpy3_2023"
  },
  "language_info": {
   "codemirror_mode": {
    "name": "ipython",
    "version": 3
   },
   "file_extension": ".py",
   "mimetype": "text/x-python",
   "name": "python",
   "nbconvert_exporter": "python",
   "pygments_lexer": "ipython3",
   "version": "3.11.4"
  }
 },
 "nbformat": 4,
 "nbformat_minor": 4
}
