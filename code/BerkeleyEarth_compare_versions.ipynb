{
 "cells": [
  {
   "cell_type": "markdown",
   "metadata": {},
   "source": [
    "# Compare different Berkeley Earth realisations"
   ]
  },
  {
   "cell_type": "code",
   "execution_count": null,
   "metadata": {},
   "outputs": [],
   "source": [
    "import pathlib\n",
    "\n",
    "import matplotlib.pyplot as plt\n",
    "import numpy as np\n",
    "import seaborn as sns\n",
    "import xarray as xr\n",
    "\n",
    "from utils import berkeley, utils"
   ]
  },
  {
   "cell_type": "markdown",
   "metadata": {},
   "source": [
    "## Difference in global mean"
   ]
  },
  {
   "cell_type": "code",
   "execution_count": null,
   "metadata": {},
   "outputs": [],
   "source": [
    "berkeley_globmean_1850_1900_v2024 = berkeley.read_globmean(ref_period=slice(1850, 1900), version=\"v2024\")\n",
    "berkeley_globmean_1850_1900_v2025 = berkeley.read_globmean(ref_period=slice(1850, 1900), version=\"v2025\")"
   ]
  },
  {
   "cell_type": "code",
   "execution_count": null,
   "metadata": {},
   "outputs": [],
   "source": [
    "berkeley_globmean_1850_1900_v2024.plot()\n",
    "berkeley_globmean_1850_1900_v2025.plot()"
   ]
  },
  {
   "cell_type": "code",
   "execution_count": null,
   "metadata": {},
   "outputs": [],
   "source": [
    "berkeley_globmean_abs_v2024 = berkeley.read_globmean(ref_period=None, version=\"v2024\")\n",
    "berkeley_globmean_abs_v2025 = berkeley.read_globmean(ref_period=None, version=\"v2025\")"
   ]
  },
  {
   "cell_type": "code",
   "execution_count": null,
   "metadata": {},
   "outputs": [],
   "source": [
    "berkeley_globmean_abs_v2024.plot()\n",
    "berkeley_globmean_abs_v2025.plot()"
   ]
  },
  {
   "cell_type": "code",
   "execution_count": null,
   "metadata": {},
   "outputs": [],
   "source": [
    "diff_anom = berkeley_globmean_1850_1900_v2024 - berkeley_globmean_1850_1900_v2025\n",
    "\n",
    "diff_abs = berkeley_globmean_abs_v2024 - berkeley_globmean_abs_v2025\n",
    "\n",
    "f, ax = plt.subplots()\n",
    "\n",
    "diff_anom.plot(ax=ax, label=\"v2024 - v2025: anom. temp.\")\n",
    "diff_abs.plot(ax=ax, label=\"v2024 - v2025: abs. temp.\")\n",
    "\n",
    "plt.legend()\n",
    "\n",
    "ax.axhline(0, lw=0.5, c=\"0.1\")"
   ]
  },
  {
   "cell_type": "markdown",
   "metadata": {},
   "source": [
    "## Difference in spatial data"
   ]
  },
  {
   "cell_type": "code",
   "execution_count": null,
   "metadata": {},
   "outputs": [],
   "source": [
    "period = slice(\"1955\", \"1960\")\n",
    "\n",
    "tmax_v2025 = berkeley.read_full(\"TMAX\", version=\"v2025\")\n",
    "tmin_v2025 = berkeley.read_full(\"TMIN\", version=\"v2025\")"
   ]
  },
  {
   "cell_type": "code",
   "execution_count": null,
   "metadata": {},
   "outputs": [],
   "source": [
    "tmax_v2024 = berkeley.read_full(\"TMAX\", version=\"v2024\")\n",
    "tmin_v2024 = berkeley.read_full(\"TMIN\", version=\"v2024\")"
   ]
  },
  {
   "cell_type": "code",
   "execution_count": null,
   "metadata": {},
   "outputs": [],
   "source": [
    "tmax_v2024.climatology.load()\n",
    "tmax_v2025.climatology.load()\n",
    "None"
   ]
  },
  {
   "cell_type": "code",
   "execution_count": null,
   "metadata": {},
   "outputs": [],
   "source": [
    "tmin_v2024.climatology.load()\n",
    "tmin_v2025.climatology.load()\n",
    "None"
   ]
  },
  {
   "cell_type": "code",
   "execution_count": null,
   "metadata": {},
   "outputs": [],
   "source": [
    "tmax_v2024"
   ]
  },
  {
   "cell_type": "code",
   "execution_count": null,
   "metadata": {},
   "outputs": [],
   "source": [
    "tmax_v2025"
   ]
  },
  {
   "cell_type": "markdown",
   "metadata": {},
   "source": [
    "### Difference in climatology"
   ]
  },
  {
   "cell_type": "code",
   "execution_count": null,
   "metadata": {},
   "outputs": [],
   "source": [
    "f, ax = plt.subplots()\n",
    "\n",
    "h = (tmax_v2025.climatology - tmax_v2024.climatology).mean(\"day_number\").plot(ax=ax, add_colorbar=False)\n",
    "\n",
    "cbar = plt.colorbar(h, ax=ax)\n",
    "\n",
    "cbar.set_label(\"climatology difference (°C)\")\n",
    "\n",
    "ax.set_title(\"Annual mean difference in TMAX climatology (v2025 - v2024)\", loc=\"left\", fontsize=8)\n",
    "\n",
    "# plt.savefig(\"BerkeleyEarth_TMAX_climatology_diff.png\")"
   ]
  },
  {
   "cell_type": "code",
   "execution_count": null,
   "metadata": {},
   "outputs": [],
   "source": [
    "(tmin_v2024.climatology - tmin_v2025.climatology).mean(\"day_number\").plot()"
   ]
  },
  {
   "cell_type": "code",
   "execution_count": null,
   "metadata": {},
   "outputs": [],
   "source": [
    "lon = 8\n",
    "lat= 47\n",
    "\n",
    "# (tmax_v2024.climatology - tmax_v2025.climatology).sel(lat=lat, lon=lon, method=\"nearest\").plot()\n",
    "\n",
    "f, axs = plt.subplots(1, 2, sharey=True)\n",
    "\n",
    "\n",
    "ax = axs[0]\n",
    "tmin_v2024.climatology.sel(lat=lat, lon=lon, method=\"nearest\").plot(ax=ax, label=\"v2024\", color=\"r\")\n",
    "tmin_v2025.climatology.sel(lat=lat, lon=lon, method=\"nearest\").plot(ax=ax, label=\"v2025\", color=\"b\")\n",
    "ax.set_title(\"TMIN\")\n",
    "ax.set_ylabel(\"Temperature (°C)\")\n",
    "ax.legend()\n",
    "\n",
    "ax = axs[1]\n",
    "tmax_v2024.climatology.sel(lat=lat, lon=lon, method=\"nearest\").plot(ax=ax, label=\"v2024\", color=\"r\")\n",
    "tmax_v2025.climatology.sel(lat=lat, lon=lon, method=\"nearest\").plot(ax=ax, label=\"v2025\", color=\"b\")\n",
    "ax.set_title(\"TMAX\")\n",
    "ax.set_ylabel(\"\")\n",
    "ax.legend()"
   ]
  },
  {
   "cell_type": "code",
   "execution_count": null,
   "metadata": {},
   "outputs": [],
   "source": [
    "a = tmin_v2024.climatology.sel(lat=lat, lon=lon, method=\"nearest\")\n",
    "b = tmax_v2024.climatology.sel(lat=lat, lon=lon, method=\"nearest\")\n",
    "\n",
    "plt.fill_between(a.day_number, a, b, color=\"#3182bd88\", label=\"v2024\")\n",
    "\n",
    "\n",
    "a = tmin_v2025.climatology.sel(lat=lat, lon=lon, method=\"nearest\")\n",
    "b = tmax_v2025.climatology.sel(lat=lat, lon=lon, method=\"nearest\")\n",
    "\n",
    "plt.fill_between(a.day_number, a, b, color=\"#c51b8a88\", label=\"v2025\")\n",
    "\n",
    "plt.legend()\n",
    "\n",
    "plt.title(\"TX and TN difference\")"
   ]
  },
  {
   "cell_type": "markdown",
   "metadata": {},
   "source": [
    "### Compare TXx"
   ]
  },
  {
   "cell_type": "code",
   "execution_count": null,
   "metadata": {},
   "outputs": [],
   "source": [
    "tmax_seas_v2024 = berkeley.add_climatology(tmax_v2024)"
   ]
  },
  {
   "cell_type": "code",
   "execution_count": null,
   "metadata": {},
   "outputs": [],
   "source": [
    "tmax_seas_v2025 = berkeley.add_climatology(tmax_v2025)"
   ]
  },
  {
   "cell_type": "code",
   "execution_count": null,
   "metadata": {},
   "outputs": [],
   "source": [
    "with xr.set_options(use_flox=True):\n",
    "    txx_v2024 = tmax_seas_v2024.groupby(\"time.year\").max(\"time\", engine=\"flox\").compute()"
   ]
  },
  {
   "cell_type": "code",
   "execution_count": null,
   "metadata": {},
   "outputs": [],
   "source": [
    "with xr.set_options(use_flox=True):\n",
    "    txx_v2025 = tmax_seas_v2025.groupby(\"time.year\").max(\"time\", engine=\"flox\").compute()"
   ]
  },
  {
   "cell_type": "code",
   "execution_count": null,
   "metadata": {},
   "outputs": [],
   "source": [
    "(txx_v2025 - txx_v2024).sel(year=2000).plot(robust=True)"
   ]
  }
 ],
 "metadata": {
  "kernelspec": {
   "display_name": "Python (iacpy3_2024)",
   "language": "python",
   "name": "iacpy3_2024"
  },
  "language_info": {
   "codemirror_mode": {
    "name": "ipython",
    "version": 3
   },
   "file_extension": ".py",
   "mimetype": "text/x-python",
   "name": "python",
   "nbconvert_exporter": "python",
   "pygments_lexer": "ipython3",
   "version": "3.11.8"
  }
 },
 "nbformat": 4,
 "nbformat_minor": 4
}
