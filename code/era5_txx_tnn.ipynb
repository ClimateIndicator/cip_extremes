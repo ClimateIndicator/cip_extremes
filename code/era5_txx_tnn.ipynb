{
 "cells": [
  {
   "cell_type": "markdown",
   "id": "ded46a8b",
   "metadata": {},
   "source": [
    "# ERA5: check TXx & TNn anomalies"
   ]
  },
  {
   "cell_type": "code",
   "execution_count": null,
   "id": "dbadbca0",
   "metadata": {},
   "outputs": [],
   "source": [
    "import matplotlib.pyplot as plt\n",
    "\n",
    "from utils import era5, utils"
   ]
  },
  {
   "cell_type": "code",
   "execution_count": null,
   "id": "bed39893",
   "metadata": {},
   "outputs": [],
   "source": [
    "CLIMATOLOGY_PERIOD = slice(\"1961\", \"1990\")"
   ]
  },
  {
   "cell_type": "markdown",
   "id": "3a8bfb07",
   "metadata": {},
   "source": [
    "## Load data"
   ]
  },
  {
   "cell_type": "code",
   "execution_count": null,
   "id": "479ebee2",
   "metadata": {},
   "outputs": [],
   "source": [
    "txx_orig = era5.load_post(variable=\"txx\").t2m\n",
    "# tnn_orig = era5.load_post(variable=\"tnn\").t2m"
   ]
  },
  {
   "cell_type": "code",
   "execution_count": null,
   "id": "14992f17",
   "metadata": {},
   "outputs": [],
   "source": [
    "land_mask = era5.load_landmask()"
   ]
  },
  {
   "cell_type": "markdown",
   "id": "ef071d3b",
   "metadata": {},
   "source": [
    "## Check land mask"
   ]
  },
  {
   "cell_type": "code",
   "execution_count": null,
   "id": "b69118ef",
   "metadata": {},
   "outputs": [],
   "source": [
    "land_mask.plot()"
   ]
  },
  {
   "cell_type": "code",
   "execution_count": null,
   "id": "0e421b14",
   "metadata": {},
   "outputs": [],
   "source": [
    "((land_mask > 0) & (land_mask < 0.5)).plot()"
   ]
  },
  {
   "cell_type": "markdown",
   "id": "8e55535e",
   "metadata": {},
   "source": [
    "## Compute land mean anomalies"
   ]
  },
  {
   "cell_type": "code",
   "execution_count": null,
   "id": "73369569",
   "metadata": {},
   "outputs": [],
   "source": [
    "txx_land = utils.land_mean(txx_orig, land_mask > 0.5)\n",
    "# tnn_land = utils.land_mean(tnn_orig, land_mask > 0.5)\n",
    "\n",
    "txx_land = utils.calc_anomaly(txx_land, CLIMATOLOGY_PERIOD, dim=\"time\")\n",
    "# tnn_land = utils.calc_anomaly(tnn_land, CLIMATOLOGY_PERIOD)"
   ]
  },
  {
   "cell_type": "markdown",
   "id": "24778802",
   "metadata": {},
   "source": [
    "## Plot anomaly time series"
   ]
  },
  {
   "cell_type": "code",
   "execution_count": null,
   "id": "aa7e5611",
   "metadata": {},
   "outputs": [],
   "source": [
    "f, ax = plt.subplots(layout=\"constrained\")\n",
    "\n",
    "txx_land.plot(ax=ax, label=\"TXx\")\n",
    "# tnn_land.plot(ax=ax, label=\"TNn\")\n",
    "\n",
    "s, e = int(CLIMATOLOGY_PERIOD.start), int(CLIMATOLOGY_PERIOD.stop)\n",
    "ax.axvspan(s, e, color=\"0.95\")\n",
    "ax.axhline(0, color=\"0.1\", lw=0.5)\n",
    "\n",
    "ax.legend()"
   ]
  }
 ],
 "metadata": {
  "kernelspec": {
   "display_name": "Python [conda env:.conda-cmip_processing]",
   "language": "python",
   "name": "conda-env-.conda-cmip_processing-py"
  },
  "language_info": {
   "codemirror_mode": {
    "name": "ipython",
    "version": 3
   },
   "file_extension": ".py",
   "mimetype": "text/x-python",
   "name": "python",
   "nbconvert_exporter": "python",
   "pygments_lexer": "ipython3",
   "version": "3.12.8"
  }
 },
 "nbformat": 4,
 "nbformat_minor": 5
}
