{
 "cells": [
  {
   "cell_type": "markdown",
   "id": "76a9d33a-d0fa-4527-913c-85c4922b0aa2",
   "metadata": {},
   "source": [
    "# ERA5: process data\n",
    "\n",
    "Process raw ERA5 data (0.25°, 1-hourly) which is too large to directly use. Compute\n",
    "- annual TXx\n",
    "- annual TNn\n",
    "- daily T mean\n",
    "\n",
    "**NOTE**: use iacpy3_2023 kernel for faster flox version"
   ]
  },
  {
   "cell_type": "code",
   "execution_count": null,
   "id": "370b7954",
   "metadata": {},
   "outputs": [],
   "source": [
    "from pathlib import Path\n",
    "import os\n",
    "\n",
    "from utils import era5\n",
    "import xarray as xr"
   ]
  },
  {
   "cell_type": "code",
   "execution_count": null,
   "id": "66fdfe8f-33ca-47c7-9be0-e396e8cf53df",
   "metadata": {},
   "outputs": [],
   "source": [
    "Path(\"../data/era5/tnn/\").mkdir(exist_ok=True, parents=True)\n",
    "Path(\"../data/era5/txx/\").mkdir(exist_ok=True, parents=True)\n",
    "Path(\"../data/era5/tmean/\").mkdir(exist_ok=True, parents=True)"
   ]
  },
  {
   "cell_type": "markdown",
   "id": "89253726-e370-4856-a24b-a1400439cac6",
   "metadata": {},
   "source": [
    "## Get TXx and TNn from hourly t2m data"
   ]
  },
  {
   "cell_type": "code",
   "execution_count": null,
   "id": "6d825918",
   "metadata": {},
   "outputs": [],
   "source": [
    "fc = era5.files_orig.find_files(time_res=\"1h\", variable=\"t2m\")\n",
    "\n",
    "for filename, meta in fc:\n",
    "    year = meta[\"year\"]\n",
    "    fN_out_txx = era5.files_post.create_full_name(variable=\"txx\", year=year)\n",
    "    fN_out_tnn = era5.files_post.create_full_name(variable=\"tnn\", year=year)\n",
    "\n",
    "    if os.path.isfile(fN_out_txx) and os.path.isfile(fN_out_tnn):\n",
    "        continue\n",
    "\n",
    "    print(f\"- {year}\")\n",
    "    print(f\"  - src: {filename}\")\n",
    "    print(f\"  - dst: {fN_out_txx}\")\n",
    "    print(f\"  - dst: {fN_out_tnn}\")\n",
    "\n",
    "    ds = xr.open_dataset(filename)\n",
    "\n",
    "    ds = ds.rename(longitude=\"lon\", latitude=\"lat\")\n",
    "\n",
    "    # remove poles\n",
    "    ds = ds.sel(lat=era5.SEL_LAT)\n",
    "\n",
    "    ds = ds.load()\n",
    "\n",
    "    # compute annual max\n",
    "    txx = ds.resample(time=\"A\").max()\n",
    "    txx.to_netcdf(fN_out_txx)\n",
    "\n",
    "    # compute annual min\n",
    "    tnn = ds.resample(time=\"A\").min()\n",
    "    tnn.to_netcdf(fN_out_tnn)"
   ]
  },
  {
   "cell_type": "markdown",
   "id": "c891f793-cf85-4ee5-b8c2-d35fad73fafa",
   "metadata": {},
   "source": [
    "## Get daily t mean from hourly t2m data"
   ]
  },
  {
   "cell_type": "code",
   "execution_count": null,
   "id": "dec6a013",
   "metadata": {},
   "outputs": [],
   "source": [
    "fc = era5.files_orig.find_files(time_res=\"1h\", variable=\"t2m\")\n",
    "\n",
    "for filename, meta in fc:\n",
    "\n",
    "    year = meta[\"year\"]\n",
    "    fN_out = era5.files_post.create_full_name(variable=\"tmean\", year=year)\n",
    "\n",
    "    if os.path.isfile(fN_out):\n",
    "        continue\n",
    "\n",
    "    print(f\"- {year}\")\n",
    "    print(f\"  - src: {filename}\")\n",
    "    print(f\"  - dst: {fN_out}\")\n",
    "\n",
    "    ds = xr.open_dataset(filename)\n",
    "    ds = ds.rename(longitude=\"lon\", latitude=\"lat\")\n",
    "\n",
    "    # remove poles\n",
    "    ds = ds.sel(lat=era5.SEL_LAT)\n",
    "\n",
    "    tmean = ds.resample(time=\"d\").mean()\n",
    "    tmean.to_netcdf(fN_out)"
   ]
  }
 ],
 "metadata": {
  "kernelspec": {
   "display_name": "Python (iacpy3_2023)",
   "language": "python",
   "name": "iacpy3_2023"
  },
  "language_info": {
   "codemirror_mode": {
    "name": "ipython",
    "version": 3
   },
   "file_extension": ".py",
   "mimetype": "text/x-python",
   "name": "python",
   "nbconvert_exporter": "python",
   "pygments_lexer": "ipython3",
   "version": "3.11.4"
  }
 },
 "nbformat": 4,
 "nbformat_minor": 5
}
